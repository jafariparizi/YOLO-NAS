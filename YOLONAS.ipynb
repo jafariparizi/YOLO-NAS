{
  "nbformat": 4,
  "nbformat_minor": 0,
  "metadata": {
    "colab": {
      "provenance": [],
      "gpuType": "T4",
      "authorship_tag": "ABX9TyPDeuqNk2BQWarpLqXhouTY",
      "include_colab_link": true
    },
    "kernelspec": {
      "name": "python3",
      "display_name": "Python 3"
    },
    "language_info": {
      "name": "python"
    },
    "accelerator": "GPU",
    "gpuClass": "standard"
  },
  "cells": [
    {
      "cell_type": "markdown",
      "metadata": {
        "id": "view-in-github",
        "colab_type": "text"
      },
      "source": [
        "<a href=\"https://colab.research.google.com/github/jafariparizi/YOLO-NAS/blob/main/YOLONAS.ipynb\" target=\"_parent\"><img src=\"https://colab.research.google.com/assets/colab-badge.svg\" alt=\"Open In Colab\"/></a>"
      ]
    },
    {
      "cell_type": "code",
      "execution_count": null,
      "metadata": {
        "id": "kenyej4Rz5uM"
      },
      "outputs": [],
      "source": [
        "!pip install super-gradients==3.1.1\n",
        "!pip install roboflow\n",
        "!pip install supervision\n",
        "exit()"
      ]
    },
    {
      "cell_type": "code",
      "source": [
        "import torch\n",
        "from super_gradients.training import models\n",
        "\n",
        "DEVICE = 'cuda' if torch.cuda.is_available() else 'cpu'\n",
        "MODEL_ARCH = 'yolo_nas_l'\n",
        "#            'yolo_nas_m'\n",
        "#            'yolo_nas_s'\n",
        "\n",
        "model = models.get(MODEL_ARCH, pretrained_weights=\"coco\").to(DEVICE)"
      ],
      "metadata": {
        "id": "5LH5_QW32S2Y"
      },
      "execution_count": null,
      "outputs": []
    },
    {
      "cell_type": "code",
      "source": [],
      "metadata": {
        "id": "pw7kF3Z63BQ9"
      },
      "execution_count": 2,
      "outputs": []
    }
  ]
}
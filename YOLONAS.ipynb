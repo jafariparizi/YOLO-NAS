{
  "nbformat": 4,
  "nbformat_minor": 0,
  "metadata": {
    "colab": {
      "provenance": [],
      "gpuType": "T4",
      "authorship_tag": "ABX9TyO/PoLAtIgl0rsyk64dchEZ",
      "include_colab_link": true
    },
    "kernelspec": {
      "name": "python3",
      "display_name": "Python 3"
    },
    "language_info": {
      "name": "python"
    },
    "accelerator": "GPU",
    "gpuClass": "standard"
  },
  "cells": [
    {
      "cell_type": "markdown",
      "metadata": {
        "id": "view-in-github",
        "colab_type": "text"
      },
      "source": [
        "<a href=\"https://colab.research.google.com/github/jafariparizi/YOLO-NAS/blob/main/YOLONAS.ipynb\" target=\"_parent\"><img src=\"https://colab.research.google.com/assets/colab-badge.svg\" alt=\"Open In Colab\"/></a>"
      ]
    },
    {
      "cell_type": "markdown",
      "source": [
        "#TRAIN YOLO-NAS for Custom Dataset and Model"
      ],
      "metadata": {
        "id": "tnRAStDd4Gv1"
      }
    },
    {
      "cell_type": "code",
      "execution_count": null,
      "metadata": {
        "id": "kenyej4Rz5uM"
      },
      "outputs": [],
      "source": [
        "!pip install super-gradients==3.1.1\n",
        "!pip install roboflow\n",
        "!pip install supervision\n",
        "exit()"
      ]
    },
    {
      "cell_type": "code",
      "source": [
        "import torch\n",
        "from super_gradients.training import models\n",
        "\n",
        "DEVICE = 'cuda' if torch.cuda.is_available() else 'cpu'\n",
        "MODEL_ARCH = 'yolo_nas_l'\n",
        "#            'yolo_nas_m'\n",
        "#            'yolo_nas_s'\n",
        "\n",
        "model = models.get(MODEL_ARCH, pretrained_weights=\"coco\").to(DEVICE)"
      ],
      "metadata": {
        "id": "5LH5_QW32S2Y"
      },
      "execution_count": null,
      "outputs": []
    },
    {
      "cell_type": "code",
      "source": [
        "import roboflow\n",
        "from roboflow import Roboflow\n",
        "\n",
        "roboflow.login()\n",
        "\n",
        "rf = Roboflow()\n",
        "project = rf.workspace(WORKSPACE_ID).project(PROJECT_ID)\n",
        "dataset = project.version(PROJECT_VERSION).download(\"yolov5\")"
      ],
      "metadata": {
        "id": "pw7kF3Z63BQ9",
        "outputId": "f268703f-fc6b-422a-827e-8495e1f33777",
        "colab": {
          "base_uri": "https://localhost:8080/"
        }
      },
      "execution_count": null,
      "outputs": [
        {
          "output_type": "stream",
          "name": "stdout",
          "text": [
            "\rvisit https://app.roboflow.com/auth-cli to get your authentication token.\n"
          ]
        }
      ]
    },
    {
      "cell_type": "code",
      "source": [
        "MODEL_ARCH = 'yolo_nas_l'\n",
        "BATCH_SIZE = 8\n",
        "MAX_EPOCHS = 25\n",
        "CHECKPOINT_DIR = f'{HOME}/checkpoints'\n",
        "EXPERIMENT_NAME = project.name.lower().replace(\" \", \"_\")\n",
        "LOCATION = dataset.location\n",
        "CLASSES = sorted(project.classes.keys())\n",
        "\n",
        "dataset_params = {\n",
        "    'data_dir': LOCATION,\n",
        "    'train_images_dir':'train/images',\n",
        "    'train_labels_dir':'train/labels',\n",
        "    'val_images_dir':'valid/images',\n",
        "    'val_labels_dir':'valid/labels',\n",
        "    'test_images_dir':'test/images',\n",
        "    'test_labels_dir':'test/labels',\n",
        "    'classes': CLASSES\n",
        "}\n",
        "\n",
        "from super_gradients.training.dataloaders.dataloaders import (\n",
        "    coco_detection_yolo_format_train, coco_detection_yolo_format_val)\n",
        "\n",
        "train_data = coco_detection_yolo_format_train(\n",
        "    dataset_params={\n",
        "        'data_dir': dataset_params['data_dir'],\n",
        "        'images_dir': dataset_params['train_images_dir'],\n",
        "        'labels_dir': dataset_params['train_labels_dir'],\n",
        "        'classes': dataset_params['classes']\n",
        "    },\n",
        "    dataloader_params={\n",
        "        'batch_size': BATCH_SIZE,\n",
        "        'num_workers': 2\n",
        "    }\n",
        ")\n",
        "\n",
        "val_data = coco_detection_yolo_format_val(\n",
        "    dataset_params={\n",
        "        'data_dir': dataset_params['data_dir'],\n",
        "        'images_dir': dataset_params['val_images_dir'],\n",
        "        'labels_dir': dataset_params['val_labels_dir'],\n",
        "        'classes': dataset_params['classes']\n",
        "    },\n",
        "    dataloader_params={\n",
        "        'batch_size': BATCH_SIZE,\n",
        "        'num_workers': 2\n",
        "    }\n",
        ")"
      ],
      "metadata": {
        "id": "PBom26wZ33mG"
      },
      "execution_count": null,
      "outputs": []
    },
    {
      "cell_type": "code",
      "source": [
        "trainer.train(\n",
        "    model=model, \n",
        "    training_params=train_params, \n",
        "    train_loader=train_data, \n",
        "    valid_loader=val_data\n",
        ")"
      ],
      "metadata": {
        "id": "fN33CBRS4FmL"
      },
      "execution_count": null,
      "outputs": []
    }
  ]
}